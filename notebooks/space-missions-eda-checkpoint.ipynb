{
 "cells": [
  {
   "cell_type": "markdown",
   "metadata": {},
   "source": [
    "# Space missions data understanding, visualization and analysis\n",
    "\n",
    "Who does not love Space? \n",
    "This DataSet was scraped from https://nextspaceflight.com/launches/past/?page=1 and includes all the space missions since the beginning of Space Race (1957) \n",
    "\n",
    "![Image](https://i1.wp.com/matmatch.com/blog/wp-content/uploads/2019/03/AdobeStock_80273384-compressor.jpeg?resize=2000%2C1125&ssl=1)"
   ]
  },
  {
   "cell_type": "markdown",
   "metadata": {},
   "source": [
    "## Introduction \n",
    "\n",
    "Ever since the start of world war when the USSR launched the first ever manmade sattelite into the space called the Sputnik, the world has taken great interests in trying to explore beyond the planet. Rocket science, Cosmology, Astronomy are the epitome of engineering and science that require extreme levels of theoretical as well as experimental work.\n",
    "\n",
    "A lot of mathematics goes behind when and where should a space launch take place for reaching it's destination at least possible resistance and with highest probability of success. At the same time, extreme levels of engineering is done to simulate the similar space conditions back on earth and test the launch vehicles for any possible failures. All these space missions require years of hard work, research and tests for success."
   ]
  },
  {
   "cell_type": "markdown",
   "metadata": {},
   "source": [
    "## Importing the libraries"
   ]
  },
  {
   "cell_type": "code",
   "execution_count": null,
   "metadata": {},
   "outputs": [],
   "source": [
    "import numpy as np  # Numpy helps us to do complex and high-level mathematical functions on large,\n",
    "                    # multi-dimentional array and matrices\n",
    "    \n",
    "import pandas as pd # Pandas offers us data structures and operations for manipulating numerical \n",
    "                    #tables and time series\n",
    "    \n",
    "import matplotlib.pyplot as plt # Matplotlib helps us to embed plots into applications, commonly used\n",
    "                                # for data visualisation\n",
    "    \n",
    "import seaborn as sns # Seaborn provides a high-level interface for drawing attractive and informative \n",
    "                      # statistical graphics.\n",
    "    \n",
    "sns.set_theme(style='darkgrid') # Setting the style of seaborn plots to 'darkgrid'\n",
    "\n",
    "import plotly.express as px # Plotly is yet another data visualisation and interactive open-source library.\n",
    "                            # Plotly graph objects are a high-level interface to plotly which are easy to use"
   ]
  },
  {
   "cell_type": "markdown",
   "metadata": {},
   "source": [
    "## Reading and making a very basic understanding of the dataset"
   ]
  },
  {
   "cell_type": "code",
   "execution_count": null,
   "metadata": {},
   "outputs": [],
   "source": [
    "df = pd.read_csv(\"../input/all-space-missions-from-1957/Space_Corrected.csv\")# Reads the .csv file and converts \n",
    "                                                                             # to pandas Dataframe Object"
   ]
  },
  {
   "cell_type": "code",
   "execution_count": null,
   "metadata": {},
   "outputs": [],
   "source": [
    "df.head()# Shows top rows of the dataset (default value-5)"
   ]
  },
  {
   "cell_type": "code",
   "execution_count": null,
   "metadata": {},
   "outputs": [],
   "source": [
    "df.info() # Gathering more knowledge about the data like number of rows and columns, datatype and not-null values"
   ]
  },
  {
   "cell_type": "code",
   "execution_count": null,
   "metadata": {},
   "outputs": [],
   "source": [
    "df.shape # shape of the dataframe object"
   ]
  },
  {
   "cell_type": "markdown",
   "metadata": {},
   "source": [
    "Let us quickly try to understand each of the columns and what they mean.\n",
    "\n",
    "- **Company name** : The space organisation undertaking the mission\n",
    "- **Location** : The point of spacecraft launch on earth\n",
    "- **Datum** : Date and time of liftoff\n",
    "- **Detail** : Name and type of the spaceship\n",
    "- **Status of rocket** : Whether the space craft is still under commission and active in it's mission\n",
    "- **Rocket** : Cost of the mission in million dollars\n",
    "- **Status Mission** : Whether the mission was successful.\n",
    "\n",
    "Any other columns are not required and we will drop them."
   ]
  },
  {
   "cell_type": "markdown",
   "metadata": {},
   "source": [
    "## Feature Extraction and Data Cleaning"
   ]
  },
  {
   "cell_type": "code",
   "execution_count": null,
   "metadata": {},
   "outputs": [],
   "source": [
    "df.head()"
   ]
  },
  {
   "cell_type": "code",
   "execution_count": null,
   "metadata": {},
   "outputs": [],
   "source": [
    "df=df.drop(['Unnamed: 0','Unnamed: 0.1'],axis=1)# Dropping the unwanted rows"
   ]
  },
  {
   "cell_type": "code",
   "execution_count": null,
   "metadata": {},
   "outputs": [],
   "source": [
    "df.columns # For displaying all the columns"
   ]
  },
  {
   "cell_type": "markdown",
   "metadata": {},
   "source": [
    "If we notice the Rocket column carefully, we will see that there is a space before the word 'Rocket'. We will fix this before proceeding"
   ]
  },
  {
   "cell_type": "code",
   "execution_count": null,
   "metadata": {},
   "outputs": [],
   "source": [
    "df=df.rename(columns={' Rocket':'Rocket'})# Renaming the column"
   ]
  },
  {
   "cell_type": "code",
   "execution_count": null,
   "metadata": {},
   "outputs": [],
   "source": [
    "df.columns"
   ]
  },
  {
   "cell_type": "markdown",
   "metadata": {},
   "source": [
    "If we look at the location column, we will find that name of the launch site is combined with the country. We must seperate out the country to have a more meaningfull insight into the data."
   ]
  },
  {
   "cell_type": "code",
   "execution_count": null,
   "metadata": {},
   "outputs": [],
   "source": [
    "df[\"Country\"] = df[\"Location\"].apply(lambda location: location.split(\", \")[-1])\n",
    "# We cant directly use a function on a dataframe object. So, we use apply method."
   ]
  },
  {
   "cell_type": "code",
   "execution_count": null,
   "metadata": {},
   "outputs": [],
   "source": [
    "df.head()"
   ]
  },
  {
   "cell_type": "markdown",
   "metadata": {},
   "source": [
    "As we did for the location column, we also need to seperate the year from the Datum column. We can always extract the year by using split but we have a very simple workaround by using a method in pandas library.\n",
    "to_datatime converts time in any format to a proper datetime format from which details such as year,month and hour can be extracted very easily."
   ]
  },
  {
   "cell_type": "code",
   "execution_count": null,
   "metadata": {},
   "outputs": [],
   "source": [
    "df['DateTime'] = pd.to_datetime(df['Datum']) \n",
    "df['Year'] = df['DateTime'].apply(lambda datetime: datetime.year)# Extracting the year from Datum column and \n",
    "                                                                 # putting it in DateTime Column"
   ]
  },
  {
   "cell_type": "code",
   "execution_count": null,
   "metadata": {},
   "outputs": [],
   "source": [
    "df.head()"
   ]
  },
  {
   "cell_type": "code",
   "execution_count": null,
   "metadata": {},
   "outputs": [],
   "source": [
    "df[\"Launch_Site\"] = df[\"Location\"].apply(lambda location: \", \".join(location.split(\", \")[:-1]))\n",
    "# Seperating the Launch Site information and putting it in Launch_Site Column"
   ]
  },
  {
   "cell_type": "code",
   "execution_count": null,
   "metadata": {},
   "outputs": [],
   "source": [
    "df.head()"
   ]
  },
  {
   "cell_type": "code",
   "execution_count": null,
   "metadata": {},
   "outputs": [],
   "source": [
    "df['Rocket'].unique()# For all unique values for the column Rocket"
   ]
  },
  {
   "cell_type": "markdown",
   "metadata": {},
   "source": [
    "Now we see that there are commas for some numbers, so we have to take out that comma so that we can convert it to float"
   ]
  },
  {
   "cell_type": "code",
   "execution_count": null,
   "metadata": {},
   "outputs": [],
   "source": [
    "df['Rocket'] = df['Rocket'].fillna(0.0).str.replace(',', '')"
   ]
  },
  {
   "cell_type": "code",
   "execution_count": null,
   "metadata": {},
   "outputs": [],
   "source": [
    "df['Rocket'].unique()"
   ]
  },
  {
   "cell_type": "markdown",
   "metadata": {},
   "source": [
    "## Data Visualisation"
   ]
  },
  {
   "cell_type": "markdown",
   "metadata": {},
   "source": [
    "### Company"
   ]
  },
  {
   "cell_type": "markdown",
   "metadata": {},
   "source": [
    "#### Countplot of Space Missions by Companies"
   ]
  },
  {
   "cell_type": "code",
   "execution_count": null,
   "metadata": {},
   "outputs": [],
   "source": [
    "plt.figure(figsize=(10,18),dpi=150)\n",
    "ax = sns.countplot(y=\"Company Name\", data=df, order=df[\"Company Name\"].value_counts().index)\n",
    "ax.set_xscale(\"log\")# Sets the scale to logarithmic value\n",
    "plt.title('All Companies',size=25)\n",
    "plt.show()"
   ]
  },
  {
   "cell_type": "markdown",
   "metadata": {},
   "source": [
    "**RVSN USSR is the company to launch the most rockets. Also, RSVN USSR does not exist anymore after the disintegration of USSR. Roscosmos is the new space agency of Russia which sits on the 16th place in our list.**"
   ]
  },
  {
   "cell_type": "markdown",
   "metadata": {},
   "source": [
    "#### Top 20 space companies"
   ]
  },
  {
   "cell_type": "code",
   "execution_count": null,
   "metadata": {},
   "outputs": [],
   "source": [
    "df['Count']=1\n",
    "df_comps=df.groupby('Company Name')['Count'].sum().reset_index().sort_values(by='Count',ascending=False)\n",
    "df_comps=df_comps.head(20)\n",
    "sns.catplot('Company Name','Count',data=df_comps,palette='Set2',kind='bar',aspect=2,height=8)\n",
    "plt.title('Top 20 space companies',size=25)\n",
    "plt.xticks(rotation=60)\n",
    "plt.xlabel('Company name')\n",
    "plt.yticks(size=15)\n",
    "plt.show()"
   ]
  },
  {
   "cell_type": "markdown",
   "metadata": {},
   "source": [
    "#### The top 15 companies in satellite mission"
   ]
  },
  {
   "cell_type": "code",
   "execution_count": null,
   "metadata": {},
   "outputs": [],
   "source": [
    "labels=list(df[\"Company Name\"].value_counts()[:15].keys())\n",
    "sizes=df[\"Company Name\"].value_counts()[:15]\n",
    "explode=[]\n",
    "for i in labels:\n",
    "    explode.append(0.075)\n",
    "plt.figure(figsize=(6,6),dpi=150)\n",
    "colors = ['#ff9999','#66b3ff','#99ff99','#ffcc99']\n",
    "plt.pie(sizes,labels=labels,explode=explode, autopct='%1.1f%%', startangle=90, shadow=False,\n",
    "        textprops={'fontsize': 6},colors=colors)\n",
    "plt.title(\"Top 15 Companies in Satellite Mission\", fontsize=10, loc=\"right\")\n",
    "plt.axis(\"equal\")\n",
    "plt.tight_layout()"
   ]
  },
  {
   "cell_type": "markdown",
   "metadata": {},
   "source": [
    "### Location"
   ]
  },
  {
   "cell_type": "markdown",
   "metadata": {},
   "source": [
    "#### Countplot of Missions by Countries"
   ]
  },
  {
   "cell_type": "code",
   "execution_count": null,
   "metadata": {},
   "outputs": [],
   "source": [
    "plt.figure(figsize=(10,10),dpi=200)\n",
    "ax = sns.countplot(y=\"Country\", data=df, order=df[\"Country\"].value_counts().index)\n",
    "ax.set_xscale(\"log\")\n",
    "plt.title('All Countries',size=25)\n",
    "plt.show()"
   ]
  },
  {
   "cell_type": "markdown",
   "metadata": {},
   "source": [
    "**We infer that Russia had the most space missions, also quite evident from the fact that RSVN USSR is the company to have the most space launches. USA was just short of them while India sits at 7th place.**"
   ]
  },
  {
   "cell_type": "markdown",
   "metadata": {},
   "source": [
    "#### Top 10 Countries leading the space launches"
   ]
  },
  {
   "cell_type": "code",
   "execution_count": null,
   "metadata": {},
   "outputs": [],
   "source": [
    "df_countries=df.groupby('Country')['Count'].sum().reset_index().sort_values(by='Count',ascending=False)\n",
    "df_countries=df_countries.head(10)\n",
    "plt.figure(figsize=(10,8),dpi=150)\n",
    "sns.catplot('Country','Count',data=df_countries,aspect=2,height=8,kind='bar',palette='Set2')\n",
    "plt.title('Top 10 nations leading the space launches',size=15)\n",
    "plt.xticks(size=15,rotation=60)\n",
    "plt.xlabel('Country',size=15)\n",
    "plt.ylabel('Count',size=15)\n",
    "plt.yticks(size=15)\n",
    "plt.show()"
   ]
  },
  {
   "cell_type": "markdown",
   "metadata": {},
   "source": [
    "#### Countplot of Missions by Launch Sites"
   ]
  },
  {
   "cell_type": "code",
   "execution_count": null,
   "metadata": {},
   "outputs": [],
   "source": [
    "plt.figure(figsize=(10,40),dpi=200)\n",
    "ax = sns.countplot(y=\"Launch_Site\", data=df, order=df[\"Launch_Site\"].value_counts().index)\n",
    "ax.set_xscale(\"log\")\n",
    "plt.title('All Launch Sites',size=25)\n",
    "plt.show()"
   ]
  },
  {
   "cell_type": "markdown",
   "metadata": {},
   "source": [
    "**From this plot, we can see that Site 31/6, Baikonur Cosmodrone is the most used launch site and it is one of the testing sites of RSVN USSR.**"
   ]
  },
  {
   "cell_type": "markdown",
   "metadata": {},
   "source": [
    "### Datum"
   ]
  },
  {
   "cell_type": "markdown",
   "metadata": {},
   "source": [
    "#### Countplot of launches by year"
   ]
  },
  {
   "cell_type": "code",
   "execution_count": null,
   "metadata": {},
   "outputs": [],
   "source": [
    "plt.figure(figsize=(10,18),dpi=150)\n",
    "sns.countplot(data=df,y='Year')\n",
    "plt.title(\"Launches By Year\")\n",
    "plt.show()"
   ]
  },
  {
   "cell_type": "markdown",
   "metadata": {},
   "source": [
    "**So we infer from this plot that 1972 was the year in which most rockets were launched. It was the year when Apollo 16 was launched and the space race was at its peak. 2018 was the year with most launches after 1972.**"
   ]
  },
  {
   "cell_type": "markdown",
   "metadata": {},
   "source": [
    "#### Frequency of Launches by Year"
   ]
  },
  {
   "cell_type": "code",
   "execution_count": null,
   "metadata": {},
   "outputs": [],
   "source": [
    "plt.figure(figsize=(10,6),dpi=150)\n",
    "sns.distplot(df['Year'],kde=True,rug=True,bins=80)\n",
    "plt.title(\"Frequency of Launches By Year\")\n",
    "plt.show()"
   ]
  },
  {
   "cell_type": "markdown",
   "metadata": {},
   "source": [
    "#### Number of Launches By Month"
   ]
  },
  {
   "cell_type": "code",
   "execution_count": null,
   "metadata": {},
   "outputs": [],
   "source": [
    "fig, ax = plt.subplots(figsize=(10, 10))\n",
    "ax.set_title('No. of Launches by Month', fontsize=20)\n",
    "month_df=pd.DataFrame()\n",
    "df['Month']=df['Datum'].apply(lambda datum: datum.split()[1])\n",
    "month_df['Month']=df['Month'].value_counts().index\n",
    "month_df['Launches']=df['Month'].value_counts().values\n",
    "order = ['Jan', 'Feb', 'Mar', 'Apr', 'May', 'Jun', 'Jul', 'Aug', 'Sep', 'Oct', 'Nov', 'Dec']\n",
    "sorter = [order.index(i) for i in month_df['Month']]\n",
    "month_df['Sorter']=sorter\n",
    "sns.lineplot(x = 'Month', y = \"Launches\", data=month_df.sort_values(by='Sorter'), sort=False)\n",
    "ax.set_xlabel('Month', fontsize=15)\n",
    "ax.set_ylabel('No. of Launches')\n",
    "plt.show()"
   ]
  },
  {
   "cell_type": "markdown",
   "metadata": {},
   "source": [
    "**We can see that moat missions happen between November and December. This can be due to the fact that weather is quite good at this time of the year**"
   ]
  },
  {
   "cell_type": "markdown",
   "metadata": {},
   "source": [
    "#### Launches in 2020 by different Companies"
   ]
  },
  {
   "cell_type": "code",
   "execution_count": null,
   "metadata": {},
   "outputs": [],
   "source": [
    "df_2020=df[df['Year']==2020]\n",
    "sns.catplot('Company Name',data=df_2020,kind='count',aspect=2,height=8,palette='Set2')\n",
    "plt.yticks(np.arange(20))\n",
    "plt.title('2020 launches',size=25)\n",
    "plt.xlabel('Company name',size=20)\n",
    "plt.xticks(size=15,rotation=45)\n",
    "plt.yticks(size=15)\n",
    "plt.ylabel('Number of missions',size=15)\n",
    "plt.show()"
   ]
  },
  {
   "cell_type": "markdown",
   "metadata": {},
   "source": [
    "**Launches in 2020 are led by Elon Musk's Space-X, while we see that new companies like Rocket Lab, Virgin Orbit are also launching quite a few **"
   ]
  },
  {
   "cell_type": "markdown",
   "metadata": {},
   "source": [
    "### Money"
   ]
  },
  {
   "cell_type": "markdown",
   "metadata": {},
   "source": [
    "#### Money Spent by Companies"
   ]
  },
  {
   "cell_type": "code",
   "execution_count": null,
   "metadata": {},
   "outputs": [],
   "source": [
    "df.Rocket = df.Rocket.apply(lambda x: str(x).strip()).astype('float64')\n",
    "data = df.groupby(['Company Name'])['Rocket'].sum().reset_index()\n",
    "data = data[data['Rocket'] > 0].sort_values(by='Rocket', ascending=False)\n",
    "data.columns = ['Company', 'Money']\n",
    "plt.figure(figsize=(10,10),dpi=150)\n",
    "plt.title(\"Money Spent By Companies\",size=15)\n",
    "ax=sns.barplot(data=data,x='Company',y='Money')\n",
    "ax.set_yscale(\"log\")\n",
    "plt.xticks(rotation=60)\n",
    "plt.show()"
   ]
  },
  {
   "cell_type": "markdown",
   "metadata": {},
   "source": [
    "**While RSVN USSR may have the most launches but NASA tops the charts when it comes to spending Money.**"
   ]
  },
  {
   "cell_type": "markdown",
   "metadata": {},
   "source": [
    "### Mission and Rocket Status"
   ]
  },
  {
   "cell_type": "markdown",
   "metadata": {},
   "source": [
    "#### Countplot of Mission Status"
   ]
  },
  {
   "cell_type": "code",
   "execution_count": null,
   "metadata": {},
   "outputs": [],
   "source": [
    "plt.figure(figsize=(3,3),dpi=150)\n",
    "ax = sns.countplot(data=df,y='Status Mission',order=df[\"Status Mission\"].value_counts().index, palette=\"Set2\")\n",
    "ax.set_xscale(\"log\")\n",
    "plt.title(\"Count of Mission Status\")\n",
    "plt.show()"
   ]
  },
  {
   "cell_type": "markdown",
   "metadata": {},
   "source": [
    "**From the plot, its clearly visible that most of the missions were successful and very few were a prelaunch failure**"
   ]
  },
  {
   "cell_type": "markdown",
   "metadata": {},
   "source": [
    "#### Pie Chart of Mission Status"
   ]
  },
  {
   "cell_type": "code",
   "execution_count": null,
   "metadata": {},
   "outputs": [],
   "source": [
    "fig = px.pie(df,names='Status Mission', title='Status of Mission',width=600, height=400)\n",
    "fig.show()"
   ]
  },
  {
   "cell_type": "markdown",
   "metadata": {},
   "source": [
    "**Roughly 90% of the missions till date were a success.**"
   ]
  },
  {
   "cell_type": "markdown",
   "metadata": {},
   "source": [
    "#### Countplot of Missions by Rocket Retirement Status"
   ]
  },
  {
   "cell_type": "code",
   "execution_count": null,
   "metadata": {},
   "outputs": [],
   "source": [
    "plt.figure(figsize=(3,3),dpi=150)\n",
    "sns.countplot(x=\"Status Rocket\",data=df,order=df[\"Status Rocket\"].value_counts().index,palette='Set2')\n",
    "plt.title(\"Count of Rocket Status\")\n",
    "plt.show()"
   ]
  },
  {
   "cell_type": "markdown",
   "metadata": {},
   "source": [
    "**Clearly, most of the launch vehicles used or the satellites launched are retired.**"
   ]
  },
  {
   "cell_type": "markdown",
   "metadata": {},
   "source": [
    "# ISRO Data Analysis\n",
    "![](https://www.isro.gov.in/sites/default/files/galleries/गैलरी/19take.jpg)"
   ]
  },
  {
   "cell_type": "code",
   "execution_count": null,
   "metadata": {},
   "outputs": [],
   "source": [
    "df_isro=df[df[\"Company Name\"]==\"ISRO\"]"
   ]
  },
  {
   "cell_type": "code",
   "execution_count": null,
   "metadata": {},
   "outputs": [],
   "source": [
    "df_isro.info()"
   ]
  },
  {
   "cell_type": "code",
   "execution_count": null,
   "metadata": {},
   "outputs": [],
   "source": [
    "df_isro.head(10)"
   ]
  },
  {
   "cell_type": "markdown",
   "metadata": {},
   "source": [
    "#### Status Mission for ISRO"
   ]
  },
  {
   "cell_type": "code",
   "execution_count": null,
   "metadata": {},
   "outputs": [],
   "source": [
    "plt.figure(figsize=(3,3),dpi=150)\n",
    "sns.countplot(data=df_isro,y='Status Mission',order=df[\"Status Mission\"].value_counts().index, palette=\"Set2\")\n",
    "plt.title(\"ISRO Mission Status\",size=15)\n",
    "plt.show()"
   ]
  },
  {
   "cell_type": "markdown",
   "metadata": {},
   "source": [
    "**There are no prelaunch failures and most missions were successful.**"
   ]
  },
  {
   "cell_type": "markdown",
   "metadata": {},
   "source": [
    "#### COuntplot of launches by Year"
   ]
  },
  {
   "cell_type": "code",
   "execution_count": null,
   "metadata": {},
   "outputs": [],
   "source": [
    "plt.figure(figsize=(10,18),dpi=150)\n",
    "sns.countplot(data=df_isro,y='Year')\n",
    "plt.title(\"ISRO Launches By Year\")\n",
    "plt.show()"
   ]
  },
  {
   "cell_type": "markdown",
   "metadata": {},
   "source": [
    "**Now lets see which is the most used launch pad for isro**"
   ]
  },
  {
   "cell_type": "code",
   "execution_count": null,
   "metadata": {},
   "outputs": [],
   "source": [
    "plt.figure(figsize=(3,3),dpi=150)\n",
    "ax = sns.countplot(y=\"Launch_Site\", data=df_isro, order=df_isro[\"Launch_Site\"].value_counts().index)\n",
    "plt.title('All ISRO Launch Sites',size=15)\n",
    "plt.yticks(rotation=60)\n",
    "plt.rc('xtick',labelsize=4)\n",
    "plt.rc('ytick',labelsize=4)\n",
    "plt.show()"
   ]
  },
  {
   "cell_type": "markdown",
   "metadata": {},
   "source": [
    "**So, the most used site is First Launch pad, Satish Dhawan Space Center.**"
   ]
  },
  {
   "cell_type": "code",
   "execution_count": null,
   "metadata": {},
   "outputs": [],
   "source": [
    "df.to_csv(r'Space_Missions_Cleaned.csv',index=False)# Saving the cleaned df object into a csv file."
   ]
  },
  {
   "cell_type": "markdown",
   "metadata": {},
   "source": [
    "Visualisation of Top 10 companies with highest success rate. #2"
   ]
  },
  {
   "cell_type": "code",
   "execution_count": null,
   "metadata": {},
   "outputs": [],
   "source": [
    "\n",
    "o=df.iloc[:,6]\n",
    "b=df.iloc[:,0]\n",
    "o=o.tolist()\n",
    "des=[]\n",
    "for i in range(len(o)):\n",
    "    if o[i]=='Success':\n",
    "        des.append(1)\n",
    "    else:\n",
    "        des.append(0)\n",
    "a1 = pd.DataFrame(b)        \n",
    "des=pd.Series(des,name=\"success\")\n",
    "b1=pd.DataFrame(des)\n",
    "des=pd.concat([a1,des], axis=1)\n",
    "des=des.groupby(\"Company Name\")\n",
    "f1=des.sum()\n",
    "f=des.count()\n",
    "g=f.iloc[:,0]\n",
    "g=g.tolist()\n",
    "g1=f1.iloc[:,0]\n",
    "g1=g1.tolist()\n",
    "ht=[]\n",
    "for i in range(len(g)):\n",
    "    ht.append(g1[i]/g[i]*100)\n",
    "b=b.tolist()\n",
    "g={'0'}\n",
    "for i in b:\n",
    "    g.add(i)\n",
    "g.discard('0')\n",
    "l=[]\n",
    "for i in g:\n",
    "    l.append(i)\n",
    "l.sort()\n",
    "ht2=pd.Series(ht,name=\"SP\")\n",
    "ht2=pd.DataFrame(ht2)\n",
    "l1=pd.Series(l,name=\"Comany Name\")\n",
    "l1=pd.DataFrame(l1)\n",
    "ht1=pd.concat([l1,ht2],axis=1)\n",
    "ht1=ht1.sort_values([\"SP\"], ascending=[0])\n",
    "t=ht1.iloc[:10,:]\n",
    "g=t.iloc[:,0]\n",
    "g=g.tolist()\n",
    "f=t.iloc[:,1]\n",
    "f=f.tolist()\n",
    "et=[.1]*len(g)\n",
    "plt.pie(f,explode=et, labels=g, colors=None,autopct='%1.2f%%',shadow=True)\n",
    "plt.legend( title =\"Cars\",loc =\"center left\",bbox_to_anchor =(1.25, 0, 2, 1))\n",
    "plt.show()"
   ]
  },
  {
   "cell_type": "code",
   "execution_count": null,
   "metadata": {},
   "outputs": [],
   "source": []
  }
 ],
 "metadata": {
  "celltoolbar": "Tags",
  "kernelspec": {
   "display_name": "Python 3",
   "language": "python",
   "name": "python3"
  },
  "language_info": {
   "codemirror_mode": {
    "name": "ipython",
    "version": 3
   },
   "file_extension": ".py",
   "mimetype": "text/x-python",
   "name": "python",
   "nbconvert_exporter": "python",
   "pygments_lexer": "ipython3",
   "version": "3.8.5"
  }
 },
 "nbformat": 4,
 "nbformat_minor": 4
}
